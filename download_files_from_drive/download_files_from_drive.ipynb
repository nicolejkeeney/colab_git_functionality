{
 "cells": [
  {
   "cell_type": "markdown",
   "id": "korean-natural",
   "metadata": {},
   "source": [
    "## Authenticate and connect to your google drive\n",
    " - Make sure you have already followed all the instructions in the README file. You should have a JSON key in your home directory called client_secrets.json."
   ]
  },
  {
   "cell_type": "code",
   "execution_count": null,
   "id": "pretty-surname",
   "metadata": {},
   "outputs": [],
   "source": [
    "from pydrive.auth import GoogleAuth\n",
    "from pydrive.drive import GoogleDrive\n",
    "\n",
    "gauth = GoogleAuth()\n",
    "gauth.LocalWebserverAuth()\n",
    "\n",
    "drive = GoogleDrive(gauth)"
   ]
  },
  {
   "cell_type": "markdown",
   "id": "intelligent-arbitration",
   "metadata": {},
   "source": [
    "## Download files from a folder in drive\n",
    " - Replace \"ID\" with the ID associated with the folder you want to download files from. This can be found by clicking on the file in google drive and clicking \"get link\". You will be given a link of this form: <br />\n",
    "ht<span>tp://drive.google.com/drive/folders/1sfdeasdfr-n_SDHSHL-oewrOzsfsfasdfsd?usp=sharing <br />\n",
    " - The ID is the random bunch of number after \"folders/\". So, for the link above, the ID would be: \"1sfdeasdfr-n_SDHSHL-oewrOzsfsfasdfsd\" <br />\n",
    " - In order to run the code below, just replace 'ID' with the ID from your folder. \n",
    " - **Make sure you keep the ID in quotations**, e.g. <br />\n",
    "<span style=\"color:darkmagenta; font-family: Courier\"> file_list = drive.ListFile({'q': \"'1sfdeasdfr-n_SDHSHL-oewrOzsfsfasdfsd' in parents\"}).GetList()</span>"
   ]
  },
  {
   "cell_type": "code",
   "execution_count": null,
   "id": "pleasant-creature",
   "metadata": {},
   "outputs": [],
   "source": [
    "file_list = drive.ListFile({'q': \"'ID' in parents\"}).GetList()\n",
    "for f in file_list:\n",
    "    print('title: %s, id: %s' % (f['title'], f['id']))\n",
    "    fname = f['title']\n",
    "    print('downloading to {}'.format(fname))\n",
    "    f_ = drive.CreateFile({'id': f['id']})\n",
    "    f_.GetContentFile(fname)"
   ]
  }
 ],
 "metadata": {
  "kernelspec": {
   "display_name": "Python 3",
   "language": "python",
   "name": "python3"
  },
  "language_info": {
   "codemirror_mode": {
    "name": "ipython",
    "version": 3
   },
   "file_extension": ".py",
   "mimetype": "text/x-python",
   "name": "python",
   "nbconvert_exporter": "python",
   "pygments_lexer": "ipython3",
   "version": "3.9.1"
  }
 },
 "nbformat": 4,
 "nbformat_minor": 5
}
